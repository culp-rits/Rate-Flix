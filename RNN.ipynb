{
  "nbformat": 4,
  "nbformat_minor": 0,
  "metadata": {
    "colab": {
      "provenance": []
    },
    "kernelspec": {
      "name": "python3",
      "display_name": "Python 3"
    },
    "language_info": {
      "name": "python"
    }
  },
  "cells": [
    {
      "cell_type": "code",
      "execution_count": 17,
      "metadata": {
        "colab": {
          "base_uri": "https://localhost:8080/"
        },
        "id": "lRH3hmBUVe2n",
        "outputId": "ec3fa631-d2cf-4834-a2c9-cbae6bd0f57b"
      },
      "outputs": [
        {
          "output_type": "stream",
          "name": "stdout",
          "text": [
            "Load Dataset - Done\n",
            "Splitting Dataset - Done\n",
            "Epoch 1/10\n",
            "25/25 [==============================] - 2s 13ms/step - loss: 12.5788\n",
            "Epoch 2/10\n",
            "25/25 [==============================] - 0s 12ms/step - loss: 1.3342\n",
            "Epoch 3/10\n",
            "25/25 [==============================] - 0s 13ms/step - loss: 0.9378\n",
            "Epoch 4/10\n",
            "25/25 [==============================] - 0s 12ms/step - loss: 0.9024\n",
            "Epoch 5/10\n",
            "25/25 [==============================] - 0s 12ms/step - loss: 0.8940\n",
            "Epoch 6/10\n",
            "25/25 [==============================] - 0s 12ms/step - loss: 0.8875\n",
            "Epoch 7/10\n",
            "25/25 [==============================] - 0s 11ms/step - loss: 0.8863\n",
            "Epoch 8/10\n",
            "25/25 [==============================] - 0s 12ms/step - loss: 0.9043\n",
            "Epoch 9/10\n",
            "25/25 [==============================] - 0s 12ms/step - loss: 0.8877\n",
            "Epoch 10/10\n",
            "25/25 [==============================] - 0s 12ms/step - loss: 0.8968\n",
            "Train RNN model - Done\n",
            "6/6 [==============================] - 0s 6ms/step\n",
            "RNN model - Evaluated\n",
            "MAE:  0.7859430865237588\n",
            "RMSE:  0.9333649116325208\n",
            "MAPE:  25.760783395572012\n",
            "Explained Variance Score:  -2.220446049250313e-16\n",
            "Median Absolute Error:  0.9960811138153076\n"
          ]
        }
      ],
      "source": [
        "import pandas as pd\n",
        "import numpy as np\n",
        "from keras.models import Sequential\n",
        "from keras.layers import Dense, Dropout, Flatten, Conv2D, MaxPooling2D\n",
        "from sklearn.model_selection import train_test_split\n",
        "from sklearn.metrics import mean_squared_error\n",
        "\n",
        "# Load data\n",
        "ratings_df = pd.read_csv('/content/drive/MyDrive/ColabDrive/ratings.csv')\n",
        "movies_df = pd.read_csv('/content/drive/MyDrive/ColabDrive/movies.csv')\n",
        "\n",
        "print(\"Load Dataset - Done\")\n",
        "\n",
        "# Merge data\n",
        "df = pd.merge(ratings_df, movies_df, on='movieId')\n",
        "\n",
        "# Create one-hot encoding of movie genres\n",
        "genres = ['Action', 'Adventure', 'Animation', 'Children', 'Comedy', 'Crime', 'Documentary', 'Drama', 'Fantasy', 'Film-Noir', 'Horror', 'IMAX', 'Musical', 'Mystery', 'Romance', 'Sci-Fi', 'Thriller', 'War', 'Western']\n",
        "for genre in genres:\n",
        "    df[genre] = df['genres'].apply(lambda x: 1 if genre in x else 0)\n",
        "\n",
        "# Select the first 1000 records\n",
        "df = df.head(1000)\n",
        "\n",
        "# Split data into train and test sets\n",
        "train_df, test_df = train_test_split(df, test_size=0.2)\n",
        "\n",
        "print(\"Splitting Dataset - Done\")\n",
        "\n",
        "# Define RNN model\n",
        "model = Sequential()\n",
        "model.add(LSTM(64, input_shape=(len(genres), 1)))\n",
        "model.add(Dense(1))\n",
        "\n",
        "# Train RNN model\n",
        "model.compile(optimizer='adam', loss='mse')\n",
        "history = model.fit(train_df[genres].values.reshape(-1, len(genres), 1), train_df['rating'], epochs=10)\n",
        "\n",
        "\n",
        "print(\"Train RNN model - Done\")\n",
        "\n",
        "# Make predictions\n",
        "test_size = test_df.shape[0] - (test_df.shape[0] % 19)\n",
        "test_df_subset = test_df.head(test_size)\n",
        "preds = model.predict(test_df_subset[genres].values.reshape(-1, 19, 1))\n",
        "\n",
        "# Evaluate model\n",
        "mae = mean_absolute_error(test_df_subset['rating'], preds)\n",
        "mape = (abs(test_df_subset['rating'].values - preds.flatten()) / test_df_subset['rating'].values).mean() * 100\n",
        "evs = explained_variance_score(test_df_subset['rating'], preds)\n",
        "medae = median_absolute_error(test_df_subset['rating'], preds)\n",
        "\n",
        "print(\"RNN model - Evaluated\")\n",
        "print('MAE: ', mae)\n",
        "print('RMSE: ', rmse)\n",
        "print('MAPE: ', mape)\n",
        "print('Explained Variance Score: ', evs)\n",
        "print('Median Absolute Error: ', medae)"
      ]
    }
  ]
}