{
 "cells": [
  {
   "cell_type": "code",
   "execution_count": 1,
   "id": "146ee78f-9b75-4fba-b3cb-3ee8d2b45b44",
   "metadata": {
    "tags": []
   },
   "outputs": [
    {
     "name": "stderr",
     "output_type": "stream",
     "text": [
      "C:\\Users\\rithe\\AppData\\Local\\Packages\\PythonSoftwareFoundation.Python.3.10_qbz5n2kfra8p0\\LocalCache\\local-packages\\Python310\\site-packages\\numpy\\_distributor_init.py:30: UserWarning: loaded more than 1 DLL from .libs:\n",
      "C:\\Users\\rithe\\AppData\\Local\\Packages\\PythonSoftwareFoundation.Python.3.10_qbz5n2kfra8p0\\LocalCache\\local-packages\\Python310\\site-packages\\numpy\\.libs\\libopenblas.FB5AE2TYXYH2IJRDKGDGQ3XBKLKTF43H.gfortran-win_amd64.dll\n",
      "C:\\Users\\rithe\\AppData\\Local\\Packages\\PythonSoftwareFoundation.Python.3.10_qbz5n2kfra8p0\\LocalCache\\local-packages\\Python310\\site-packages\\numpy\\.libs\\libopenblas64__v0.3.21-gcc_10_3_0.dll\n",
      "  warnings.warn(\"loaded more than 1 DLL from .libs:\"\n"
     ]
    },
    {
     "name": "stdout",
     "output_type": "stream",
     "text": [
      "Load Dataset - Done\n",
      "Splitting Dataset - Done\n",
      "Train Decision Tree model - Done\n",
      "Decision Tree model - Evaluated\n",
      "MAE:  0.7264125\n",
      "RMSE:  0.9103064387886092\n",
      "MAPE:  25.1611498015873\n",
      "Explained Variance Score:  1.1102230246251565e-16\n",
      "Median Absolute Error:  0.82125\n"
     ]
    }
   ],
   "source": [
    "import pandas as pd\n",
    "from sklearn.model_selection import train_test_split\n",
    "from sklearn.tree import DecisionTreeRegressor\n",
    "from sklearn.metrics import mean_squared_error\n",
    "\n",
    "# Load data\n",
    "ratings_df = pd.read_csv('ratings.csv')\n",
    "movies_df = pd.read_csv('movies.csv')\n",
    "\n",
    "print(\"Load Dataset - Done\")\n",
    "\n",
    "# Merge data\n",
    "df = pd.merge(ratings_df, movies_df, on='movieId')\n",
    "\n",
    "# Create one-hot encoding of movie genres\n",
    "genres = ['Action', 'Adventure', 'Animation', 'Children', 'Comedy', 'Crime', 'Documentary', 'Drama', 'Fantasy', 'Film-Noir', 'Horror', 'IMAX', 'Musical', 'Mystery', 'Romance', 'Sci-Fi', 'Thriller', 'War', 'Western']\n",
    "for genre in genres:\n",
    "    df[genre] = df['genres'].apply(lambda x: 1 if genre in x else 0)\n",
    "\n",
    "df = df.head(1000)\n",
    "    \n",
    "# Split data into train and test sets\n",
    "train_df, test_df = train_test_split(df, test_size=0.2)\n",
    "\n",
    "print(\"Splitting Dataset - Done\")\n",
    "\n",
    "# Train Decision Tree model\n",
    "dt = DecisionTreeRegressor()\n",
    "dt.fit(train_df[genres], train_df['rating'])\n",
    "\n",
    "print(\"Train Decision Tree model - Done\")\n",
    "\n",
    "# Make predictions\n",
    "preds = dt.predict(test_df[genres])\n",
    "\n",
    "#Evaluate Model\n",
    "from sklearn.metrics import mean_squared_error,mean_absolute_error, explained_variance_score, median_absolute_error\n",
    "\n",
    "mae = mean_absolute_error(test_df['rating'], preds)\n",
    "rmse = mean_squared_error(test_df['rating'], preds, squared=False)\n",
    "mape = (abs(test_df['rating'] - preds) / test_df['rating']).mean() * 100\n",
    "evs = explained_variance_score(test_df['rating'], preds)\n",
    "medae = median_absolute_error(test_df['rating'], preds)\n",
    "\n",
    "print(\"Decision Tree model - Evaluated\")\n",
    "print('MAE: ', mae)\n",
    "print('RMSE: ', rmse)\n",
    "print('MAPE: ', mape)\n",
    "print('Explained Variance Score: ', evs)\n",
    "print('Median Absolute Error: ', medae)\n"
   ]
  }
 ],
 "metadata": {
  "kernelspec": {
   "display_name": "Python 3 (ipykernel)",
   "language": "python",
   "name": "python3"
  },
  "language_info": {
   "codemirror_mode": {
    "name": "ipython",
    "version": 3
   },
   "file_extension": ".py",
   "mimetype": "text/x-python",
   "name": "python",
   "nbconvert_exporter": "python",
   "pygments_lexer": "ipython3",
   "version": "3.10.11"
  }
 },
 "nbformat": 4,
 "nbformat_minor": 5
}
