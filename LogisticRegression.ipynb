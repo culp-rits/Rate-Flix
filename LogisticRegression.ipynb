{
 "cells": [
  {
   "cell_type": "code",
   "execution_count": 1,
   "id": "547aa032-7ee7-4a0e-9778-ae1a2e41a999",
   "metadata": {
    "tags": []
   },
   "outputs": [
    {
     "name": "stderr",
     "output_type": "stream",
     "text": [
      "C:\\Users\\rithe\\AppData\\Local\\Packages\\PythonSoftwareFoundation.Python.3.10_qbz5n2kfra8p0\\LocalCache\\local-packages\\Python310\\site-packages\\numpy\\_distributor_init.py:30: UserWarning: loaded more than 1 DLL from .libs:\n",
      "C:\\Users\\rithe\\AppData\\Local\\Packages\\PythonSoftwareFoundation.Python.3.10_qbz5n2kfra8p0\\LocalCache\\local-packages\\Python310\\site-packages\\numpy\\.libs\\libopenblas.FB5AE2TYXYH2IJRDKGDGQ3XBKLKTF43H.gfortran-win_amd64.dll\n",
      "C:\\Users\\rithe\\AppData\\Local\\Packages\\PythonSoftwareFoundation.Python.3.10_qbz5n2kfra8p0\\LocalCache\\local-packages\\Python310\\site-packages\\numpy\\.libs\\libopenblas64__v0.3.21-gcc_10_3_0.dll\n",
      "  warnings.warn(\"loaded more than 1 DLL from .libs:\"\n"
     ]
    },
    {
     "name": "stdout",
     "output_type": "stream",
     "text": [
      "Load Dataset - Done\n",
      "Splitting Dataset - Done\n",
      "Train Logistic Regression model - Done\n",
      "Making Predictions - Done\n",
      "Logistic Regression model - Evaluated\n",
      "Accuracy:  0.92\n",
      "Precision:  0.92\n",
      "Recall:  1.0\n",
      "F1 Score:  0.9583333333333334\n"
     ]
    }
   ],
   "source": [
    "import pandas as pd\n",
    "from sklearn.model_selection import train_test_split\n",
    "from sklearn.linear_model import LogisticRegression\n",
    "from sklearn.metrics import accuracy_score, precision_score, recall_score, f1_score\n",
    "\n",
    "# Load data\n",
    "ratings_df = pd.read_csv('ratings.csv')\n",
    "movies_df = pd.read_csv('movies.csv')\n",
    "\n",
    "print(\"Load Dataset - Done\")\n",
    "\n",
    "# Merge data\n",
    "df = pd.merge(ratings_df, movies_df, on='movieId')\n",
    "\n",
    "# Create one-hot encoding of movie genres\n",
    "genres = ['Action', 'Adventure', 'Animation', 'Children', 'Comedy', 'Crime', 'Documentary', 'Drama', 'Fantasy', 'Film-Noir', 'Horror', 'IMAX', 'Musical', 'Mystery', 'Romance', 'Sci-Fi', 'Thriller', 'War', 'Western']\n",
    "for genre in genres:\n",
    "    df[genre] = df['genres'].apply(lambda x: 1 if genre in x else 0)\n",
    "\n",
    "# Take the first 1000 records\n",
    "df = df.head(1000)\n",
    "\n",
    "# Split data into train and test sets\n",
    "train_df, test_df = train_test_split(df, test_size=0.2)\n",
    "\n",
    "print(\"Splitting Dataset - Done\")\n",
    "\n",
    "# Define logistic regression model\n",
    "logreg = LogisticRegression()\n",
    "\n",
    "# Train logistic regression model\n",
    "logreg.fit(train_df[genres], train_df['rating'].apply(lambda x: 1 if x >= 3 else 0))\n",
    "\n",
    "print(\"Train Logistic Regression model - Done\")\n",
    "\n",
    "# Make predictions\n",
    "preds = logreg.predict(test_df[genres])\n",
    "\n",
    "print(\"Making Predictions - Done\")\n",
    "\n",
    "# Evaluate model\n",
    "accuracy = accuracy_score(test_df['rating'].apply(lambda x: 1 if x >= 3 else 0), preds)\n",
    "precision = precision_score(test_df['rating'].apply(lambda x: 1 if x >= 3 else 0), preds)\n",
    "recall = recall_score(test_df['rating'].apply(lambda x: 1 if x >= 3 else 0), preds)\n",
    "f1 = f1_score(test_df['rating'].apply(lambda x: 1 if x >= 3 else 0), preds)\n",
    "\n",
    "print(\"Logistic Regression model - Evaluated\")\n",
    "print('Accuracy: ', accuracy)\n",
    "print('Precision: ', precision)\n",
    "print('Recall: ', recall)\n",
    "print('F1 Score: ', f1)\n"
   ]
  }
 ],
 "metadata": {
  "kernelspec": {
   "display_name": "Python 3 (ipykernel)",
   "language": "python",
   "name": "python3"
  },
  "language_info": {
   "codemirror_mode": {
    "name": "ipython",
    "version": 3
   },
   "file_extension": ".py",
   "mimetype": "text/x-python",
   "name": "python",
   "nbconvert_exporter": "python",
   "pygments_lexer": "ipython3",
   "version": "3.10.11"
  }
 },
 "nbformat": 4,
 "nbformat_minor": 5
}
