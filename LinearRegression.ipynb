{
 "cells": [
  {
   "cell_type": "code",
   "execution_count": 1,
   "id": "96f7c41e-c685-440d-bcd3-6d506cc82883",
   "metadata": {
    "tags": []
   },
   "outputs": [
    {
     "name": "stderr",
     "output_type": "stream",
     "text": [
      "C:\\Users\\rithe\\AppData\\Local\\Packages\\PythonSoftwareFoundation.Python.3.10_qbz5n2kfra8p0\\LocalCache\\local-packages\\Python310\\site-packages\\numpy\\_distributor_init.py:30: UserWarning: loaded more than 1 DLL from .libs:\n",
      "C:\\Users\\rithe\\AppData\\Local\\Packages\\PythonSoftwareFoundation.Python.3.10_qbz5n2kfra8p0\\LocalCache\\local-packages\\Python310\\site-packages\\numpy\\.libs\\libopenblas.FB5AE2TYXYH2IJRDKGDGQ3XBKLKTF43H.gfortran-win_amd64.dll\n",
      "C:\\Users\\rithe\\AppData\\Local\\Packages\\PythonSoftwareFoundation.Python.3.10_qbz5n2kfra8p0\\LocalCache\\local-packages\\Python310\\site-packages\\numpy\\.libs\\libopenblas64__v0.3.21-gcc_10_3_0.dll\n",
      "  warnings.warn(\"loaded more than 1 DLL from .libs:\"\n"
     ]
    },
    {
     "name": "stdout",
     "output_type": "stream",
     "text": [
      "Load Dataset - Done\n",
      "Splitting Dataset - Done\n",
      "Train Linear Regression model - Done\n",
      "Making Predictions - Done\n",
      "Linear Regression model - Evaluated\n",
      "MAE:  0.71625\n",
      "RMSE:  0.9636356936104017\n",
      "MAPE:  30.368923611111114\n",
      "Explained Variance Score:  0.0\n",
      "Median Absolute Error:  0.8125\n"
     ]
    }
   ],
   "source": [
    "import pandas as pd\n",
    "import numpy as np\n",
    "from sklearn.model_selection import train_test_split\n",
    "from sklearn.linear_model import LinearRegression\n",
    "from sklearn.metrics import mean_squared_error\n",
    "\n",
    "# Load data\n",
    "ratings_df = pd.read_csv('ratings.csv')\n",
    "movies_df = pd.read_csv('movies.csv')\n",
    "\n",
    "print(\"Load Dataset - Done\")\n",
    "\n",
    "# Merge data\n",
    "df = pd.merge(ratings_df, movies_df, on='movieId')\n",
    "\n",
    "# Create one-hot encoding of movie genres\n",
    "genres = ['Action', 'Adventure', 'Animation', 'Children', 'Comedy', 'Crime', 'Documentary', 'Drama', 'Fantasy', 'Film-Noir', 'Horror', 'IMAX', 'Musical', 'Mystery', 'Romance', 'Sci-Fi', 'Thriller', 'War', 'Western']\n",
    "for genre in genres:\n",
    "    df[genre] = df['genres'].apply(lambda x: 1 if genre in x else 0)\n",
    "\n",
    "# Select the first 1000 records\n",
    "df = df[:1000]\n",
    "\n",
    "# Split data into train and test sets\n",
    "train_df, test_df = train_test_split(df, test_size=0.2)\n",
    "\n",
    "print(\"Splitting Dataset - Done\")\n",
    "\n",
    "# Define Linear Regression model\n",
    "lin_reg = LinearRegression()\n",
    "\n",
    "# Train Linear Regression model\n",
    "lin_reg.fit(train_df[genres], train_df['rating'])\n",
    "\n",
    "print(\"Train Linear Regression model - Done\")\n",
    "\n",
    "# Make predictions\n",
    "preds = lin_reg.predict(test_df[genres])\n",
    "\n",
    "print(\"Making Predictions - Done\")\n",
    "\n",
    "# Evaluate model\n",
    "from sklearn.metrics import mean_squared_error,mean_absolute_error, explained_variance_score, median_absolute_error\n",
    "\n",
    "mae = mean_absolute_error(test_df['rating'], preds)\n",
    "rmse = mean_squared_error(test_df['rating'], preds, squared=False)\n",
    "mape = (abs(test_df['rating'] - preds) / test_df['rating']).mean() * 100\n",
    "evs = explained_variance_score(test_df['rating'], preds)\n",
    "medae = median_absolute_error(test_df['rating'], preds)\n",
    "\n",
    "print(\"Linear Regression model - Evaluated\")\n",
    "print('MAE: ', mae)\n",
    "print('RMSE: ', rmse)\n",
    "print('MAPE: ', mape)\n",
    "print('Explained Variance Score: ', evs)\n",
    "print('Median Absolute Error: ', medae)\n"
   ]
  }
 ],
 "metadata": {
  "kernelspec": {
   "display_name": "Python 3 (ipykernel)",
   "language": "python",
   "name": "python3"
  },
  "language_info": {
   "codemirror_mode": {
    "name": "ipython",
    "version": 3
   },
   "file_extension": ".py",
   "mimetype": "text/x-python",
   "name": "python",
   "nbconvert_exporter": "python",
   "pygments_lexer": "ipython3",
   "version": "3.10.11"
  }
 },
 "nbformat": 4,
 "nbformat_minor": 5
}
