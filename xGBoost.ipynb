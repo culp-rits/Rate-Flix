{
 "cells": [
  {
   "cell_type": "code",
   "execution_count": 1,
   "id": "4c98204a-8471-4b97-aa18-0afa38adda2a",
   "metadata": {
    "tags": []
   },
   "outputs": [
    {
     "name": "stderr",
     "output_type": "stream",
     "text": [
      "C:\\Users\\rithe\\AppData\\Local\\Packages\\PythonSoftwareFoundation.Python.3.10_qbz5n2kfra8p0\\LocalCache\\local-packages\\Python310\\site-packages\\numpy\\_distributor_init.py:30: UserWarning: loaded more than 1 DLL from .libs:\n",
      "C:\\Users\\rithe\\AppData\\Local\\Packages\\PythonSoftwareFoundation.Python.3.10_qbz5n2kfra8p0\\LocalCache\\local-packages\\Python310\\site-packages\\numpy\\.libs\\libopenblas.FB5AE2TYXYH2IJRDKGDGQ3XBKLKTF43H.gfortran-win_amd64.dll\n",
      "C:\\Users\\rithe\\AppData\\Local\\Packages\\PythonSoftwareFoundation.Python.3.10_qbz5n2kfra8p0\\LocalCache\\local-packages\\Python310\\site-packages\\numpy\\.libs\\libopenblas64__v0.3.21-gcc_10_3_0.dll\n",
      "  warnings.warn(\"loaded more than 1 DLL from .libs:\"\n"
     ]
    },
    {
     "name": "stdout",
     "output_type": "stream",
     "text": [
      "Load Dataset - Done\n",
      "Splitting Dataset - Done\n",
      "Train xGBoost model - Done\n",
      "Making Predictions - Done\n",
      "xGBoost model - Evaluated\n",
      "MAE:  1.3090339171886445\n",
      "RMSE:  1.4444749637781016\n",
      "MAPE:  40.81852896800117\n",
      "Explained Variance Score:  -0.011643590285766336\n",
      "Median Absolute Error:  1.4488811492919922\n"
     ]
    }
   ],
   "source": [
    "import pandas as pd\n",
    "import xgboost as xgb\n",
    "from sklearn.model_selection import train_test_split\n",
    "from sklearn.metrics import mean_squared_error\n",
    "\n",
    "# Load data\n",
    "ratings_df = pd.read_csv('ratings.csv')\n",
    "\n",
    "ratings_df = ratings_df.head(1000)\n",
    "\n",
    "print(\"Load Dataset - Done\")\n",
    "\n",
    "# Split data into train and test sets\n",
    "train_df, test_df = train_test_split(ratings_df, test_size=0.2)\n",
    "\n",
    "print(\"Splitting Dataset - Done\")\n",
    "\n",
    "# Define XGBoost parameters\n",
    "params = {'objective': 'reg:squarederror', 'max_depth': 3, 'learning_rate': 0.1}\n",
    "\n",
    "# Train GBM model\n",
    "dtrain = xgb.DMatrix(train_df[['userId', 'movieId']], label=train_df['rating'])\n",
    "dtest = xgb.DMatrix(test_df[['userId', 'movieId']])\n",
    "model = xgb.train(params, dtrain)\n",
    "\n",
    "print(\"Train xGBoost model - Done\")\n",
    "\n",
    "# Make predictions\n",
    "preds = model.predict(dtest)\n",
    "\n",
    "print(\"Making Predictions - Done\")\n",
    "\n",
    "# Evaluate model\n",
    "from sklearn.metrics import mean_squared_error,mean_absolute_error, explained_variance_score, median_absolute_error\n",
    "\n",
    "mae = mean_absolute_error(test_df['rating'], preds)\n",
    "rmse = mean_squared_error(test_df['rating'], preds, squared=False)\n",
    "mape = (abs(test_df['rating'] - preds) / test_df['rating']).mean() * 100\n",
    "evs = explained_variance_score(test_df['rating'], preds)\n",
    "medae = median_absolute_error(test_df['rating'], preds)\n",
    "\n",
    "print(\"xGBoost model - Evaluated\")\n",
    "print('MAE: ', mae)\n",
    "print('RMSE: ', rmse)\n",
    "print('MAPE: ', mape)\n",
    "print('Explained Variance Score: ', evs)\n",
    "print('Median Absolute Error: ', medae)"
   ]
  },
  {
   "cell_type": "code",
   "execution_count": null,
   "id": "9174519e-bc8c-4de6-8575-89084f3ea20b",
   "metadata": {},
   "outputs": [],
   "source": []
  }
 ],
 "metadata": {
  "kernelspec": {
   "display_name": "Python 3 (ipykernel)",
   "language": "python",
   "name": "python3"
  },
  "language_info": {
   "codemirror_mode": {
    "name": "ipython",
    "version": 3
   },
   "file_extension": ".py",
   "mimetype": "text/x-python",
   "name": "python",
   "nbconvert_exporter": "python",
   "pygments_lexer": "ipython3",
   "version": "3.10.11"
  }
 },
 "nbformat": 4,
 "nbformat_minor": 5
}
